{
 "cells": [
  {
   "cell_type": "markdown",
   "metadata": {},
   "source": [
    "# Assignment 3 - Lyrics Generations Using Melody\n",
    " \n",
    "### Authors:\n",
    "\n",
    "1.   Liav Bachar 205888472\n",
    "2.   Naor Kolet 205533060\n"
   ]
  },
  {
   "cell_type": "markdown",
   "metadata": {},
   "source": [
    "# Imports"
   ]
  },
  {
   "cell_type": "code",
   "execution_count": 1,
   "metadata": {},
   "outputs": [],
   "source": [
    "import pandas as pd\n",
    "import numpy as np\n",
    " \n",
    "# TensorFlow\n",
    "import tensorflow as tf\n",
    "from tensorflow.keras.layers import Input, Embedding, LSTM, Concatenate\n",
    "from tensorflow.keras.layers import Dropout, Dense, Lambda\n",
    "from tensorflow.keras.callbacks import ModelCheckpoint, EarlyStopping, ReduceLROnPlateau\n",
    "\n",
    "from tensorflow.keras.models import Model, load_model\n",
    "from tensorflow.keras.optimizers import Adam\n",
    "\n",
    "\n",
    "# Scikit-learn\n",
    "from sklearn.preprocessing import MinMaxScaler\n",
    "from sklearn.metrics import mean_squared_error, mean_absolute_error, mean_squared_error\n",
    "from sklearn.model_selection import train_test_split\n",
    "\n",
    "# Text preprocessing\n",
    "import nltk\n",
    "# nltk.download('punkt')\n",
    "# nltk.download('wordnet')\n",
    "from nltk.tokenize import word_tokenize\n",
    "import re\n",
    "from tensorflow.keras.preprocessing.sequence import pad_sequences\n",
    "from tensorflow.keras.preprocessing.text import Tokenizer\n",
    "from tensorflow.keras.utils import to_categorical\n",
    "\n",
    "# Plots\n",
    "import seaborn as sns\n",
    "import matplotlib.pyplot as plt\n",
    "\n",
    "# Misc.\n",
    "import os\n",
    "import joblib\n",
    "import random\n",
    "import time\n",
    "from tqdm import tqdm_notebook as tqdm\n",
    "import pretty_midi\n",
    "import datetime\n",
    "\n",
    "SEED = 42\n",
    "%matplotlib inline"
   ]
  },
  {
   "cell_type": "code",
   "execution_count": 2,
   "metadata": {},
   "outputs": [],
   "source": [
    "random.seed(SEED)\n",
    "np.random.seed(SEED)\n",
    "tf.random.set_seed(SEED)"
   ]
  },
  {
   "cell_type": "markdown",
   "metadata": {},
   "source": [
    "# Load Data"
   ]
  },
  {
   "cell_type": "markdown",
   "metadata": {},
   "source": [
    "## Load raw data"
   ]
  },
  {
   "cell_type": "markdown",
   "metadata": {},
   "source": [
    "First we loads the raw files that were given with the assignment.\n",
    "Note: Some changes were made to some songs' names to match their midi file name."
   ]
  },
  {
   "cell_type": "code",
   "execution_count": 3,
   "metadata": {},
   "outputs": [],
   "source": [
    "cols = ['Singer', 'Song Name', 'Lyrics']\n",
    "\n",
    "df = pd.read_csv('datasets/lyrics_train_set.csv', names=cols)\n",
    "df_test = pd.read_csv('datasets/lyrics_test_set.csv', names=cols)"
   ]
  },
  {
   "cell_type": "markdown",
   "metadata": {},
   "source": [
    "### Remove non rational lyrics"
   ]
  },
  {
   "cell_type": "markdown",
   "metadata": {},
   "source": [
    "We found one song that does not contain real words in its lyrics so we have decided to remove it from our train dataset"
   ]
  },
  {
   "cell_type": "code",
   "execution_count": 4,
   "metadata": {},
   "outputs": [
    {
     "data": {
      "text/html": [
       "<div>\n",
       "<style scoped>\n",
       "    .dataframe tbody tr th:only-of-type {\n",
       "        vertical-align: middle;\n",
       "    }\n",
       "\n",
       "    .dataframe tbody tr th {\n",
       "        vertical-align: top;\n",
       "    }\n",
       "\n",
       "    .dataframe thead th {\n",
       "        text-align: right;\n",
       "    }\n",
       "</style>\n",
       "<table border=\"1\" class=\"dataframe\">\n",
       "  <thead>\n",
       "    <tr style=\"text-align: right;\">\n",
       "      <th></th>\n",
       "      <th>Singer</th>\n",
       "      <th>Song Name</th>\n",
       "      <th>Lyrics</th>\n",
       "    </tr>\n",
       "  </thead>\n",
       "  <tbody>\n",
       "    <tr>\n",
       "      <th>315</th>\n",
       "      <td>darude</td>\n",
       "      <td>sandstorm</td>\n",
       "      <td>[instrumental] &amp; du du dudududududuud &amp; dududu...</td>\n",
       "    </tr>\n",
       "  </tbody>\n",
       "</table>\n",
       "</div>"
      ],
      "text/plain": [
       "     Singer  Song Name                                             Lyrics\n",
       "315  darude  sandstorm  [instrumental] & du du dudududududuud & dududu..."
      ]
     },
     "execution_count": 4,
     "metadata": {},
     "output_type": "execute_result"
    }
   ],
   "source": [
    "bad_song = df.query(\"Singer == 'darude'\")\n",
    "bad_song"
   ]
  },
  {
   "cell_type": "code",
   "execution_count": 5,
   "metadata": {},
   "outputs": [],
   "source": [
    "df.drop(axis=0, index=bad_song.index, inplace=True)"
   ]
  },
  {
   "cell_type": "markdown",
   "metadata": {},
   "source": [
    "## Add midi files"
   ]
  },
  {
   "cell_type": "markdown",
   "metadata": {},
   "source": [
    "Here we attach to each song record its associate midi file name to be able to load its melody later in the process"
   ]
  },
  {
   "cell_type": "code",
   "execution_count": 6,
   "metadata": {},
   "outputs": [],
   "source": [
    "def add_midi_files(df):\n",
    "    midis = list(os.listdir(r'./datasets/midi_files'))\n",
    "    midis = {midi.lower()[:-4]: midi for midi in midis}    \n",
    "    \n",
    "    def combine_singer_song(singer, song):\n",
    "        key = f'{singer} - {song}'.replace(' ', '_').lower()\n",
    "        return midis[key] if key in midis else None\n",
    "    \n",
    "    df['Midi File'] = df.apply(lambda r: combine_singer_song(r['Singer'], r['Song Name']) ,axis=1)\n",
    "    return df"
   ]
  },
  {
   "cell_type": "code",
   "execution_count": 7,
   "metadata": {},
   "outputs": [],
   "source": [
    "df = add_midi_files(df)\n",
    "df_test = add_midi_files(df_test)"
   ]
  },
  {
   "cell_type": "markdown",
   "metadata": {},
   "source": [
    "### check midi files"
   ]
  },
  {
   "cell_type": "markdown",
   "metadata": {},
   "source": [
    "We found that several midi files are broken and cannot be loaded.\n",
    "We have decided to remove the associate songs' records from our train data."
   ]
  },
  {
   "cell_type": "code",
   "execution_count": 8,
   "metadata": {},
   "outputs": [
    {
     "data": {
      "text/plain": [
       "(619,)"
      ]
     },
     "execution_count": 8,
     "metadata": {},
     "output_type": "execute_result"
    }
   ],
   "source": [
    "midis = np.concatenate([df['Midi File'].values, df_test['Midi File'].values])\n",
    "midis.shape"
   ]
  },
  {
   "cell_type": "code",
   "execution_count": 9,
   "metadata": {},
   "outputs": [
    {
     "name": "stderr",
     "output_type": "stream",
     "text": [
      "/home/naorko/.conda/envs/tf-env/lib/python3.8/site-packages/pretty_midi/pretty_midi.py:97: RuntimeWarning: Tempo, Key or Time signature change events found on non-zero tracks.  This is not a valid type 0 or type 1 MIDI file.  Tempo, Key or Time Signature may be wrong.\n",
      "  warnings.warn(\n"
     ]
    },
    {
     "name": "stdout",
     "output_type": "stream",
     "text": [
      "Could not decode key with 16 sharps and mode 1\n",
      "error readying midi file David_Bowie_-_Lazarus.mid\n",
      "Could not decode key with 1 flats and mode 255\n",
      "error readying midi file Beastie_Boys_-_Girls.mid\n",
      "data byte must be in range 0..127\n",
      "error readying midi file Billy_Joel_-_Movin'_Out.mid\n",
      "data byte must be in range 0..127\n",
      "error readying midi file Billy_Joel_-_Pressure.mid\n",
      "Could not decode key with 4 flats and mode 255\n",
      "error readying midi file Dan_Fogelberg_-_Leader_of_the_Band.mid\n",
      "\n",
      "error readying midi file Brian_McKnight_-_On_The_Down_Low.mid\n",
      "data byte must be in range 0..127\n",
      "error readying midi file Aaron_Neville_-_Tell_It_Like_It_Is.mid\n"
     ]
    }
   ],
   "source": [
    "corrupted = []\n",
    "for i, midi in enumerate(midis):\n",
    "    try:\n",
    "        midi = pretty_midi.PrettyMIDI(fr'./datasets/midi_files/{midi}')\n",
    "        midi.remove_invalid_notes()\n",
    "        del midi\n",
    "    except Exception as e:\n",
    "        print(\"%s\\nerror readying midi file %s\" % (e, midi))\n",
    "        corrupted.append(i)"
   ]
  },
  {
   "cell_type": "code",
   "execution_count": 10,
   "metadata": {},
   "outputs": [
    {
     "data": {
      "text/html": [
       "<div>\n",
       "<style scoped>\n",
       "    .dataframe tbody tr th:only-of-type {\n",
       "        vertical-align: middle;\n",
       "    }\n",
       "\n",
       "    .dataframe tbody tr th {\n",
       "        vertical-align: top;\n",
       "    }\n",
       "\n",
       "    .dataframe thead th {\n",
       "        text-align: right;\n",
       "    }\n",
       "</style>\n",
       "<table border=\"1\" class=\"dataframe\">\n",
       "  <thead>\n",
       "    <tr style=\"text-align: right;\">\n",
       "      <th></th>\n",
       "      <th>Singer</th>\n",
       "      <th>Song Name</th>\n",
       "      <th>Lyrics</th>\n",
       "      <th>Midi File</th>\n",
       "    </tr>\n",
       "  </thead>\n",
       "  <tbody>\n",
       "    <tr>\n",
       "      <th>91</th>\n",
       "      <td>david bowie</td>\n",
       "      <td>lazarus</td>\n",
       "      <td>look up here i'm in heaven &amp; i've got scars th...</td>\n",
       "      <td>David_Bowie_-_Lazarus.mid</td>\n",
       "    </tr>\n",
       "    <tr>\n",
       "      <th>115</th>\n",
       "      <td>beastie boys</td>\n",
       "      <td>girls</td>\n",
       "      <td>girls all i really want is girls &amp; and in the ...</td>\n",
       "      <td>Beastie_Boys_-_Girls.mid</td>\n",
       "    </tr>\n",
       "    <tr>\n",
       "      <th>136</th>\n",
       "      <td>billy joel</td>\n",
       "      <td>movin' out</td>\n",
       "      <td>anthony works in the grocery store   &amp; savin h...</td>\n",
       "      <td>Billy_Joel_-_Movin'_Out.mid</td>\n",
       "    </tr>\n",
       "    <tr>\n",
       "      <th>143</th>\n",
       "      <td>billy joel</td>\n",
       "      <td>pressure</td>\n",
       "      <td>you have to learn to pace yourself &amp; pressure ...</td>\n",
       "      <td>Billy_Joel_-_Pressure.mid</td>\n",
       "    </tr>\n",
       "    <tr>\n",
       "      <th>189</th>\n",
       "      <td>dan fogelberg</td>\n",
       "      <td>leader of the band</td>\n",
       "      <td>an only child alone and wild a cabinet maker's...</td>\n",
       "      <td>Dan_Fogelberg_-_Leader_of_the_Band.mid</td>\n",
       "    </tr>\n",
       "    <tr>\n",
       "      <th>513</th>\n",
       "      <td>brian mcknight</td>\n",
       "      <td>on the down low</td>\n",
       "      <td>maxine was 5'9'' &amp; had a man and she didn't mi...</td>\n",
       "      <td>Brian_McKnight_-_On_The_Down_Low.mid</td>\n",
       "    </tr>\n",
       "    <tr>\n",
       "      <th>575</th>\n",
       "      <td>aaron neville</td>\n",
       "      <td>tell it like it is</td>\n",
       "      <td>if you want something to play with &amp; go and fi...</td>\n",
       "      <td>Aaron_Neville_-_Tell_It_Like_It_Is.mid</td>\n",
       "    </tr>\n",
       "  </tbody>\n",
       "</table>\n",
       "</div>"
      ],
      "text/plain": [
       "             Singer           Song Name  \\\n",
       "91      david bowie             lazarus   \n",
       "115    beastie boys               girls   \n",
       "136      billy joel          movin' out   \n",
       "143      billy joel            pressure   \n",
       "189   dan fogelberg  leader of the band   \n",
       "513  brian mcknight     on the down low   \n",
       "575   aaron neville  tell it like it is   \n",
       "\n",
       "                                                Lyrics  \\\n",
       "91   look up here i'm in heaven & i've got scars th...   \n",
       "115  girls all i really want is girls & and in the ...   \n",
       "136  anthony works in the grocery store   & savin h...   \n",
       "143  you have to learn to pace yourself & pressure ...   \n",
       "189  an only child alone and wild a cabinet maker's...   \n",
       "513  maxine was 5'9'' & had a man and she didn't mi...   \n",
       "575  if you want something to play with & go and fi...   \n",
       "\n",
       "                                  Midi File  \n",
       "91                David_Bowie_-_Lazarus.mid  \n",
       "115                Beastie_Boys_-_Girls.mid  \n",
       "136             Billy_Joel_-_Movin'_Out.mid  \n",
       "143               Billy_Joel_-_Pressure.mid  \n",
       "189  Dan_Fogelberg_-_Leader_of_the_Band.mid  \n",
       "513    Brian_McKnight_-_On_The_Down_Low.mid  \n",
       "575  Aaron_Neville_-_Tell_It_Like_It_Is.mid  "
      ]
     },
     "execution_count": 10,
     "metadata": {},
     "output_type": "execute_result"
    }
   ],
   "source": [
    "bad_songs = df.iloc[corrupted]\n",
    "bad_songs"
   ]
  },
  {
   "cell_type": "code",
   "execution_count": 11,
   "metadata": {},
   "outputs": [],
   "source": [
    "df.drop(axis=0, index=bad_songs.index, inplace=True)"
   ]
  },
  {
   "cell_type": "markdown",
   "metadata": {},
   "source": [
    "## Create Validation Dataset"
   ]
  },
  {
   "cell_type": "code",
   "execution_count": 12,
   "metadata": {},
   "outputs": [],
   "source": [
    "msk = np.random.rand(len(df)) < 0.8\n",
    "\n",
    "df_train = df[msk]\n",
    "df_val = df[~msk]"
   ]
  },
  {
   "cell_type": "markdown",
   "metadata": {},
   "source": [
    "# Preprocessing"
   ]
  },
  {
   "cell_type": "markdown",
   "metadata": {},
   "source": [
    "Our preprocessing stage divided into two main parts.\n",
    " - Lyrics preprocessing\n",
    " - Melody preprocessing"
   ]
  },
  {
   "cell_type": "markdown",
   "metadata": {},
   "source": [
    "## Lyrics Preprocessing"
   ]
  },
  {
   "cell_type": "markdown",
   "metadata": {},
   "source": [
    "Here we  take the loaded songs' lyrics and process them throw several steps.\n",
    "1. Brake shortcut phrases e.g. can't --> can not . This step will make the words more meaningful and we will be able to use the pretrained embeddings for this words\n",
    "2. Remove all non-alphabetical words and punctions, assuming they are not meaningful. Note: We keeping only the character '&' that is represents a new line.\n",
    "3. Lower case all the words to make it easier to tokenize the same words into the same token\n",
    "4. Lastly, we add the symbol '$' in the end of each song to represent the song termination.\n"
   ]
  },
  {
   "cell_type": "code",
   "execution_count": 13,
   "metadata": {},
   "outputs": [],
   "source": [
    "from nltk.tokenize import word_tokenize\n",
    "\n",
    "def decontracted(phrase):\n",
    "    # specific\n",
    "    phrase = re.sub(r\"won't\", \"will not\", phrase)\n",
    "    phrase = re.sub(r\"can\\'t\", \"can not\", phrase)\n",
    "\n",
    "    # general\n",
    "    phrase = re.sub(r\"n\\'t\", \" not\", phrase)\n",
    "    phrase = re.sub(r\"\\'re\", \" are\", phrase)\n",
    "    phrase = re.sub(r\"\\'s\", \" is\", phrase)\n",
    "    phrase = re.sub(r\"\\'d\", \" would\", phrase)\n",
    "    phrase = re.sub(r\"\\'ll\", \" will\", phrase)\n",
    "    phrase = re.sub(r\"\\'t\", \" not\", phrase)\n",
    "    phrase = re.sub(r\"\\'ve\", \" have\", phrase)\n",
    "    phrase = re.sub(r\"\\'m\", \" am\", phrase)\n",
    "    phrase = re.sub(r\"in\\'\", \"ing\", phrase)\n",
    "    phrase = re.sub(r\"y\\'all\", \"you all\", phrase)\n",
    "    phrase = re.sub(r\"hiya\", \"hi you\", phrase)\n",
    "    \n",
    "    # punctions\n",
    "    regex = re.compile('[^a-zA-Z& ]')\n",
    "    phrase = regex.sub('', phrase)\n",
    "    \n",
    "    return phrase\n",
    "\n",
    "def preprocess_lyrics(data):\n",
    "    data = decontracted(data)\n",
    "    tokens = word_tokenize(data)\n",
    "    data_arr = []\n",
    "    \n",
    "    for t in tokens:    \n",
    "        # Lower case word\n",
    "        t = t.lower()\n",
    "        \n",
    "        data_arr.append(t)\n",
    "    \n",
    "    \n",
    "    return data_arr"
   ]
  },
  {
   "cell_type": "code",
   "execution_count": 14,
   "metadata": {},
   "outputs": [
    {
     "data": {
      "text/plain": [
       "\"you know i need your love & you've got that hold over me & long as i've got your love & you know that i'll never leave & when i wanted you to share my life & i had no doubt in my mind & and it's been you woman & right down the line & i know how much i lean on you & only you can see & the changes that i've been through & have left a mark on me & you've been as constant as a northern star & the brightest light that shines & it's been you woman right down the line & i just want to say this is my way & of tellin' you everything & i could never say before & yeah this is my way of tellin' you & that every day i'm lovin' you so much more & 'cause you believed in me through my darkest night & put somethin' better inside of me & you brought me into the light & threw away all those crazy dreams & i put them all behind & and it was you woman & right down the line & i just want to say this is my way of tellin' you everything & i could never say before & yeah this is my way of tellin' you & everything i could never say before & yeah this is my way of tellin' you & that every day i'm lovin' you so much more &\""
      ]
     },
     "execution_count": 14,
     "metadata": {},
     "output_type": "execute_result"
    }
   ],
   "source": [
    "df_train.iloc[1,2]"
   ]
  },
  {
   "cell_type": "code",
   "execution_count": 15,
   "metadata": {},
   "outputs": [
    {
     "name": "stdout",
     "output_type": "stream",
     "text": [
      "you know i need your love \n",
      "\n",
      "you have got that hold over me \n",
      "\n",
      "long as i have got your love \n",
      "\n",
      "you know that i will never leave \n",
      "\n",
      "when i wanted you to share my life \n",
      "\n",
      "i had no doubt in my mind \n",
      "\n",
      "and it is been you woman \n",
      "\n",
      "right down the line \n",
      "\n",
      "i know how much i lean on you \n",
      "\n",
      "only you can see \n",
      "\n",
      "the changes that i have been through \n",
      "\n",
      "have left a mark on me \n",
      "\n",
      "you have been as constant as a northern star \n",
      "\n",
      "the brightest light that shines \n",
      "\n",
      "it is been you woman right down the line \n",
      "\n",
      "i just want to say this is my way \n",
      "\n",
      "of telling you everything \n",
      "\n",
      "i could never say before \n",
      "\n",
      "yeah this is my way of telling you \n",
      "\n",
      "that every day i am loving you so much more \n",
      "\n",
      "cause you believed in me through my darkest night \n",
      "\n",
      "put something better inside of me \n",
      "\n",
      "you brought me into the light \n",
      "\n",
      "threw away all those crazy dreams \n",
      "\n",
      "i put them all behind \n",
      "\n",
      "and it was you woman \n",
      "\n",
      "right down the line \n",
      "\n",
      "i just want to say this is my way of telling you everything \n",
      "\n",
      "i could never say before \n",
      "\n",
      "yeah this is my way of telling you \n",
      "\n",
      "everything i could never say before \n",
      "\n",
      "yeah this is my way of telling you \n",
      "\n",
      "that every day i am loving you so much more \n",
      "\n"
     ]
    }
   ],
   "source": [
    "string = df_train.iloc[1,2]\n",
    "tokenized_string = preprocess_lyrics(string)\n",
    "\n",
    "def pretty_lyrics(tokenized_string):\n",
    "    for token in tokenized_string:\n",
    "        if token == '&':\n",
    "            print('\\n')\n",
    "        else:\n",
    "            print(token, end=' ')\n",
    "\n",
    "pretty_lyrics(tokenized_string)"
   ]
  },
  {
   "cell_type": "code",
   "execution_count": 82,
   "metadata": {},
   "outputs": [],
   "source": [
    "stop_token = '$'\n",
    "lyrics_train = df_train['Lyrics'].apply(lambda s: preprocess_lyrics(s)[:-1] + [stop_token])\n",
    "lyrics_val = df_val['Lyrics'].apply(lambda s: preprocess_lyrics(s)[:-1] + [stop_token])"
   ]
  },
  {
   "cell_type": "markdown",
   "metadata": {},
   "source": [
    "### Load embeddings"
   ]
  },
  {
   "cell_type": "markdown",
   "metadata": {},
   "source": [
    "Here we manage to load pre-trained embeddings for our words of the songs.\n",
    "We first create a dictionary using a built-in Tokenizer that maps each word to a unique number.\n",
    "Then we create an embeddings matrix of size (Dictionary-size x Embeddings-size) where each row will contain the embedding from google that matches the word from the dictionary."
   ]
  },
  {
   "cell_type": "code",
   "execution_count": 17,
   "metadata": {},
   "outputs": [],
   "source": [
    "tokenizer = Tokenizer()\n",
    "tokenizer.fit_on_texts(lyrics_train)"
   ]
  },
  {
   "cell_type": "code",
   "execution_count": 83,
   "metadata": {},
   "outputs": [],
   "source": [
    "lyrics_train = tokenizer.texts_to_sequences(lyrics_train)\n",
    "lyrics_val = tokenizer.texts_to_sequences(lyrics_val)"
   ]
  },
  {
   "cell_type": "code",
   "execution_count": 19,
   "metadata": {},
   "outputs": [],
   "source": [
    "EMBEDDING_FILE = './GoogleNews-vectors-negative300.bin'\n",
    "\n",
    "if not os.path.isfile(EMBEDDING_FILE):\n",
    "    !wget -c \"https://s3.amazonaws.com/dl4j-distribution/GoogleNews-vectors-negative300.bin.gz\"\n",
    "    !gzip -f -d GoogleNews-vectors-negative300.bin.gz"
   ]
  },
  {
   "cell_type": "code",
   "execution_count": 20,
   "metadata": {},
   "outputs": [
    {
     "name": "stdout",
     "output_type": "stream",
     "text": [
      "414 out of 6160 has no embedings from word2vec\n"
     ]
    }
   ],
   "source": [
    "from gensim import models\n",
    "\n",
    "embeddings_index = models.KeyedVectors.load_word2vec_format(EMBEDDING_FILE, binary=True)\n",
    "embed_size = 300\n",
    "word_index = tokenizer.word_index\n",
    "max_features = len(word_index) + 1\n",
    "\n",
    "nb_words = len(word_index)\n",
    "embedding_matrix = (np.random.rand(nb_words+1, embed_size) - 0.5) / 5.0\n",
    "\n",
    "not_in_word2vec = 0\n",
    "for word, i in word_index.items():\n",
    "    if i >= max_features: continue\n",
    "    if word in embeddings_index:\n",
    "        embedding_vector = embeddings_index.get_vector(word)\n",
    "        embedding_matrix[i] = embedding_vector\n",
    "    else:\n",
    "        not_in_word2vec += 1\n",
    "        \n",
    "print(f'{not_in_word2vec} out of {len(word_index)} has no embedings from word2vec')"
   ]
  },
  {
   "cell_type": "markdown",
   "metadata": {},
   "source": [
    "### Spliting songs into sliding window of fixed size"
   ]
  },
  {
   "cell_type": "markdown",
   "metadata": {},
   "source": [
    "Here we split each song into slided windows. Each window will be of fixed size and our model will try to predict the next word given a window."
   ]
  },
  {
   "cell_type": "code",
   "execution_count": 21,
   "metadata": {},
   "outputs": [],
   "source": [
    "ast=np.lib.index_tricks.as_strided\n",
    "def generate_sliding_window(arr, window_size=5, window_stride=1, last_window=False):\n",
    "    last_window = 1 if last_window else 0\n",
    "    arr = np.ascontiguousarray(arr)\n",
    "    arr_len = arr.shape[0]\n",
    "    s, = arr.strides\n",
    "    windows_num = ((arr_len-window_size)//window_stride) + last_window\n",
    "    \n",
    "    return ast(arr, (windows_num, window_size), (s*window_stride, s))"
   ]
  },
  {
   "cell_type": "code",
   "execution_count": 22,
   "metadata": {},
   "outputs": [],
   "source": [
    "def split_lyrics(lyrics, window_size=10):\n",
    "    X, y = [], []\n",
    "    for lyric in lyrics:\n",
    "        X.append(generate_sliding_window(lyric, window_size))\n",
    "        y.append(to_categorical(lyric[window_size:], num_classes=max_features))\n",
    "        \n",
    "    return X, y\n"
   ]
  },
  {
   "cell_type": "code",
   "execution_count": 84,
   "metadata": {},
   "outputs": [],
   "source": [
    "window_size = 10\n",
    "lyrics_train = split_lyrics(lyrics_train, window_size)\n",
    "lyrics_val = split_lyrics(lyrics_val, window_size)"
   ]
  },
  {
   "cell_type": "markdown",
   "metadata": {},
   "source": [
    "## Melody preprocessing"
   ]
  },
  {
   "cell_type": "markdown",
   "metadata": {},
   "source": [
    "Here we implemented two different ways to process the midi files:\n",
    "1. `whole` - Take the piano roll of the midi file and calculate the average value of each note across the whole song.\n",
    "2. `slided` - Take the piano roll and slice it into sliding windows which represents the notes that being played during one word, each window will be attached to the corresponding word in the song."
   ]
  },
  {
   "cell_type": "markdown",
   "metadata": {},
   "source": [
    "### Check Melody's Notes Values Range"
   ]
  },
  {
   "cell_type": "code",
   "execution_count": 28,
   "metadata": {},
   "outputs": [
    {
     "data": {
      "application/vnd.jupyter.widget-view+json": {
       "model_id": "d8203a4892df4254a10a2298d4b85ab9",
       "version_major": 2,
       "version_minor": 0
      },
      "text/plain": [
       "HBox(children=(IntProgress(value=0, max=612), HTML(value='')))"
      ]
     },
     "metadata": {},
     "output_type": "display_data"
    },
    {
     "name": "stderr",
     "output_type": "stream",
     "text": [
      "/home/naorko/.conda/envs/tf-env/lib/python3.8/site-packages/pretty_midi/pretty_midi.py:97: RuntimeWarning: Tempo, Key or Time signature change events found on non-zero tracks.  This is not a valid type 0 or type 1 MIDI file.  Tempo, Key or Time Signature may be wrong.\n",
      "  warnings.warn(\n"
     ]
    },
    {
     "name": "stdout",
     "output_type": "stream",
     "text": [
      "\n",
      "The maximum note value is 762.0\n",
      "The minimum song length is 297\n",
      "The maximum song length is 3006\n"
     ]
    }
   ],
   "source": [
    "midis = np.concatenate([df['Midi File'].values, df_test['Midi File'].values])\n",
    "fs = 5\n",
    "\n",
    "max_note_val = -1\n",
    "min_frames = 9999\n",
    "max_frames = -1\n",
    "for midi in tqdm(midis):\n",
    "    pm = pretty_midi.PrettyMIDI(fr'./datasets/midi_files/{midi}')\n",
    "    pm.remove_invalid_notes()\n",
    "    \n",
    "    piano_roll = pm.get_piano_roll(fs=fs)\n",
    "    if piano_roll.shape[1]:\n",
    "        curr_len = piano_roll.shape[1]\n",
    "        min_frames = min(min_frames, curr_len)\n",
    "        max_frames = max(max_frames, curr_len)\n",
    "        \n",
    "    for inst in pm.instruments:\n",
    "        piano_roll = inst.get_piano_roll(fs=fs)\n",
    "        if piano_roll.shape[1]:\n",
    "            curr_max_note = piano_roll.max()\n",
    "            max_note_val = max(max_note_val, curr_max_note)\n",
    "        \n",
    "    del pm\n",
    "\n",
    "print(f'The maximum note value is {max_note_val}')\n",
    "print(f'The minimum song length is {min_frames}')\n",
    "print(f'The maximum song length is {max_frames}')"
   ]
  },
  {
   "cell_type": "markdown",
   "metadata": {},
   "source": [
    "### Preprocess Entire Melody into a Single Vector"
   ]
  },
  {
   "cell_type": "code",
   "execution_count": 86,
   "metadata": {},
   "outputs": [],
   "source": [
    "def preprocess_melody_file_whole(midi_name, fs=5, max_piano_val=100):\n",
    "    pm = pretty_midi.PrettyMIDI(fr'./datasets/midi_files/{midi_name}')\n",
    "    pm.remove_invalid_notes()\n",
    "    \n",
    "    # Sum all notes from all instruments\n",
    "    piano_all = pm.get_piano_roll(fs=fs)\n",
    "    piano_shape = piano_all.shape\n",
    "\n",
    "    # Normalize by the number of played instruments in the same time and note\n",
    "    counter = np.zeros(piano_shape)\n",
    "    for inst in pm.instruments:\n",
    "        curr_piano = inst.get_piano_roll(fs=fs)\n",
    "\n",
    "        counter[:, :curr_piano.shape[1]] += (curr_piano > 0).astype(int)\n",
    "\n",
    "    counter[counter == 0] = 1\n",
    "    piano_all /= counter\n",
    "    \n",
    "    # Normalize by the maximum value of a note\n",
    "    piano_all = piano_all / max_piano_val\n",
    "    \n",
    "    # Normalize by the number of played notes in the same time\n",
    "    count_notes = (piano_all > 0).sum(axis=1)\n",
    "    count_notes[count_notes == 0] = 1\n",
    "    melody = piano_all.sum(axis=1) / count_notes\n",
    "    \n",
    "    return melody"
   ]
  },
  {
   "cell_type": "code",
   "execution_count": 87,
   "metadata": {},
   "outputs": [],
   "source": [
    "melody_train_whole = df_train['Midi File'].apply(preprocess_melody_file_whole, fs=100, max_piano_val=762)\n",
    "melody_val_whole = df_val['Midi File'].apply(preprocess_melody_file_whole, fs=100, max_piano_val=762)"
   ]
  },
  {
   "cell_type": "markdown",
   "metadata": {},
   "source": [
    "Here we attach the same single vector representation of the melody to each word of the song"
   ]
  },
  {
   "cell_type": "code",
   "execution_count": 29,
   "metadata": {},
   "outputs": [],
   "source": [
    "def prepare_x_y_whole(lyrics, melody):\n",
    "    for i in range(len(lyrics[0])):\n",
    "        window_n, window_size = lyrics[0][i].shape\n",
    "        \n",
    "        melody.iloc[i] = np.repeat([melody.iloc[i]], repeats=window_n * window_size).reshape(window_n, window_size, -1)\n",
    "        \n",
    "            \n",
    "    lyrics_X = np.concatenate(lyrics[0])\n",
    "    lyrics_y = np.concatenate(lyrics[1])\n",
    "    melody = np.concatenate(melody.values)\n",
    "            \n",
    "    return (melody, lyrics_X), lyrics_y"
   ]
  },
  {
   "cell_type": "code",
   "execution_count": 88,
   "metadata": {},
   "outputs": [],
   "source": [
    "train_data_whole = prepare_x_y_whole(lyrics_train, melody_train_whole)\n",
    "val_data_whole = prepare_x_y_whole(lyrics_val, melody_val_whole)"
   ]
  },
  {
   "cell_type": "markdown",
   "metadata": {},
   "source": [
    "### Preprocess Melody into a Sliding Window of Notes"
   ]
  },
  {
   "cell_type": "code",
   "execution_count": 34,
   "metadata": {},
   "outputs": [],
   "source": [
    "ast=np.lib.index_tricks.as_strided\n",
    "def generate_sliding_window_2d(arr, window_size=5, window_stride=1, last_window=False):\n",
    "    last_window = 1 if last_window else 0\n",
    "    arr = np.ascontiguousarray(arr)\n",
    "    l0, l1 = arr.shape\n",
    "    s0, s1 = arr.strides\n",
    "    windows_num = ((l0-window_size)//window_stride) + last_window\n",
    "    \n",
    "    return ast(arr, (windows_num, window_size, l1), (s0*window_stride, s0, s1))"
   ]
  },
  {
   "cell_type": "code",
   "execution_count": 67,
   "metadata": {},
   "outputs": [],
   "source": [
    "def preprocess_melody_file_slided(midi_name, fs=5, max_piano_val=100, fpw=4, window_size=10):\n",
    "    pm = pretty_midi.PrettyMIDI(fr'./datasets/midi_files/{midi_name}')\n",
    "    pm.remove_invalid_notes()\n",
    "    \n",
    "    # Sum all notes from all instruments\n",
    "    piano_all = pm.get_piano_roll(fs=fs)\n",
    "    piano_shape = piano_all.shape\n",
    "\n",
    "    # Normalize by the number of played instruments in the same time and note\n",
    "    counter = np.zeros(piano_shape)\n",
    "    for inst in pm.instruments:\n",
    "        curr_piano = inst.get_piano_roll(fs=fs)\n",
    "\n",
    "        counter[:, :curr_piano.shape[1]] += (curr_piano > 0).astype(int)\n",
    "\n",
    "    counter[counter == 0] = 1\n",
    "    piano_all /= counter\n",
    "    \n",
    "    # Normalize by the maximum value of a note\n",
    "    piano_all = piano_all / max_piano_val\n",
    "    \n",
    "    # Normalize by the number of played notes in the same time\n",
    "    count_notes = (piano_all > 0).sum(axis=0)\n",
    "    count_notes[count_notes == 0] = 1\n",
    "    melody = piano_all.sum(axis=0) / count_notes\n",
    "    del piano_all\n",
    "    \n",
    "    # Split Melody's notes into words\n",
    "    melody_per_word = generate_sliding_window(melody[(melody > 0).argmax():], window_size=fpw, window_stride=(fpw*4)//5, last_window=True)\n",
    "    # Split Melody's words into windows\n",
    "    melody_windows = generate_sliding_window_2d(melody_per_word, window_size=window_size, last_window=True)\n",
    "    \n",
    "    return melody_windows"
   ]
  },
  {
   "cell_type": "markdown",
   "metadata": {},
   "source": [
    "Notes regarding the parameters:\n",
    "- **fs**: is the frequency, at frequency 100, each second will be splitted into 100 frames, each frame will contain the value of the notes that were played during it\n",
    "- **fpw**: is frames per word, according to our research, each word takes about 64 miliseconds. We assigned for each word 100 miliseconds were each \"word\" of melody will overlap the other about 20%. We established the ovelaps because we assumed that some words take less time than others so it will cover it up and indeed we saw improvement in the performance with this technique"
   ]
  },
  {
   "cell_type": "code",
   "execution_count": 68,
   "metadata": {},
   "outputs": [],
   "source": [
    "melody_train_slided = df_train['Midi File'].apply(preprocess_melody_file_slided, fs=100, max_piano_val=762, fpw=100, window_size=10)\n",
    "melody_val_slided = df_val['Midi File'].apply(preprocess_melody_file_slided, fs=100, max_piano_val=762, fpw=100, window_size=10)"
   ]
  },
  {
   "cell_type": "markdown",
   "metadata": {},
   "source": [
    "Here we attach the melody's word of notes to the relevent word from the song"
   ]
  },
  {
   "cell_type": "code",
   "execution_count": 60,
   "metadata": {},
   "outputs": [],
   "source": [
    "def prepare_x_y_slided(lyrics, melody):\n",
    "    for i in range(len(lyrics[0])):\n",
    "        mel_len = melody.iloc[i].shape[0]\n",
    "        lyr_len = lyrics[0][i].shape[0]\n",
    "        \n",
    "        if mel_len >= lyr_len:\n",
    "            melody.iloc[i] = melody.iloc[i][:lyr_len, :, :]\n",
    "        else:\n",
    "            lyrics[0][i] = lyrics[0][i][:mel_len, :]\n",
    "            lyrics[1][i] = lyrics[1][i][:mel_len, :]\n",
    "            \n",
    "    lyrics_X = np.concatenate(lyrics[0])\n",
    "    lyrics_y = np.concatenate(lyrics[1])\n",
    "    del lyrics\n",
    "    melody = np.concatenate(melody.values)\n",
    "            \n",
    "    return (melody, lyrics_X), lyrics_y"
   ]
  },
  {
   "cell_type": "code",
   "execution_count": 72,
   "metadata": {},
   "outputs": [],
   "source": [
    "train_data_slided = prepare_x_y_slided(lyrics_train, melody_train_slided)\n",
    "val_data_slided = prepare_x_y_slided(lyrics_val, melody_val_slided)"
   ]
  },
  {
   "cell_type": "markdown",
   "metadata": {},
   "source": [
    "# Building the Lyrics Generator model"
   ]
  },
  {
   "cell_type": "markdown",
   "metadata": {},
   "source": [
    "## Model Architecture"
   ]
  },
  {
   "cell_type": "markdown",
   "metadata": {},
   "source": [
    "Here we build our model architecture. It contains 4 main parts.\n",
    "\n",
    "1. **Embedding Layer** - Here the words of each song will be converted to their embeddings representations. We made this layer trainable, let the model learn the embeddings for the missing words.\n",
    "2. **Concatenate Layer** - Here we attach for each word entry the related melody record\n",
    "3. **LSTM Layers** - Here we created two layers of lstm, the first one learn features across the windows and outputs all the hidden states, the next one gets those hidden states and output a single feature that was learnt from them.\n",
    "4. **Softmax Layer** - Give each word in our dictionary the probabilty it will be the next word after the window.\n",
    "\n",
    "Note: We are using Dropout layers in order to reduce the overfitting"
   ]
  },
  {
   "cell_type": "code",
   "execution_count": 45,
   "metadata": {},
   "outputs": [],
   "source": [
    "def init_model(window_size, melody_features):\n",
    "    input_melody = Input(shape=(window_size, melody_features), name='melody')\n",
    "    input_lyrics = Input(shape=(window_size,), name='lyrics')\n",
    "    \n",
    "    embd_lyrics = Embedding(max_features, \n",
    "                      embed_size, \n",
    "                      weights=[embedding_matrix],\n",
    "                      input_length=window_size,\n",
    "                      name='word_embd')(input_lyrics)\n",
    "    \n",
    "    merged = Concatenate(axis=2, name='merge')([embd_lyrics, input_melody])\n",
    "    \n",
    "    lstm = LSTM(64, return_sequences=True, dropout=0.5)(merged)\n",
    "    lstm = LSTM(64, dropout=0.5)(lstm)\n",
    "\n",
    "    X = Dense(128, activation=\"relu\")(lstm)\n",
    "    X = Dropout(0.5)(X)\n",
    "    out = Dense(max_features, activation=\"softmax\", name = 'out')(X)\n",
    "\n",
    "    model = Model([input_melody, input_lyrics], out)\n",
    "\n",
    "    model.compile(loss='categorical_crossentropy', optimizer=Adam())\n",
    "    \n",
    "    return model"
   ]
  },
  {
   "cell_type": "code",
   "execution_count": 41,
   "metadata": {},
   "outputs": [
    {
     "name": "stdout",
     "output_type": "stream",
     "text": [
      "Model: \"model\"\n",
      "__________________________________________________________________________________________________\n",
      "Layer (type)                    Output Shape         Param #     Connected to                     \n",
      "==================================================================================================\n",
      "lyrics (InputLayer)             [(None, 10)]         0                                            \n",
      "__________________________________________________________________________________________________\n",
      "word_embd (Embedding)           (None, 10, 300)      1848300     lyrics[0][0]                     \n",
      "__________________________________________________________________________________________________\n",
      "melody (InputLayer)             [(None, 10, 100)]    0                                            \n",
      "__________________________________________________________________________________________________\n",
      "merge (Concatenate)             (None, 10, 400)      0           word_embd[0][0]                  \n",
      "                                                                 melody[0][0]                     \n",
      "__________________________________________________________________________________________________\n",
      "lstm (LSTM)                     (None, 10, 64)       119040      merge[0][0]                      \n",
      "__________________________________________________________________________________________________\n",
      "lstm_1 (LSTM)                   (None, 64)           33024       lstm[0][0]                       \n",
      "__________________________________________________________________________________________________\n",
      "dense (Dense)                   (None, 128)          8320        lstm_1[0][0]                     \n",
      "__________________________________________________________________________________________________\n",
      "dropout (Dropout)               (None, 128)          0           dense[0][0]                      \n",
      "__________________________________________________________________________________________________\n",
      "out (Dense)                     (None, 6161)         794769      dropout[0][0]                    \n",
      "==================================================================================================\n",
      "Total params: 2,803,453\n",
      "Trainable params: 2,803,453\n",
      "Non-trainable params: 0\n",
      "__________________________________________________________________________________________________\n"
     ]
    }
   ],
   "source": [
    "model = init_model(*train_data_slided[0][0].shape[1:])\n",
    "model.summary()"
   ]
  },
  {
   "cell_type": "markdown",
   "metadata": {},
   "source": [
    "## Training Framework"
   ]
  },
  {
   "cell_type": "code",
   "execution_count": 42,
   "metadata": {},
   "outputs": [],
   "source": [
    "def get_callbacks(model_name):\n",
    "    acc = 'val_loss'\n",
    "    acc_mode = 'min'\n",
    "    \n",
    "    checkpoint = ModelCheckpoint(\n",
    "                              fr'./models/{model_name}.h5', \n",
    "                              monitor=acc, \n",
    "#                               verbose=1, \n",
    "                              save_best_only=True, \n",
    "                              mode=acc_mode)\n",
    "    earlystop = EarlyStopping(monitor=acc, mode=acc_mode, verbose=1, patience=6)\n",
    "    reduceLR = ReduceLROnPlateau(monitor = 'val_loss', mode = 'min', patience = 5,\n",
    "                            factor = 0.5, min_lr = 1e-6, verbose = 1)\n",
    "    \n",
    "    log_dir = \"logs/fit/\"# + datetime.datetime.now().strftime(\"%Y%m%d-%H%M%S\")\n",
    "    tensorboard = tf.keras.callbacks.TensorBoard(log_dir=log_dir, histogram_freq=1)\n",
    "\n",
    "    return [checkpoint, reduceLR, earlystop]#, tensorboard]"
   ]
  },
  {
   "cell_type": "code",
   "execution_count": 43,
   "metadata": {},
   "outputs": [],
   "source": [
    "def train_model(model_name, model_gen, train_data, val_data, use_saved=False, params_dict=None):\n",
    "    os.makedirs('./models', exist_ok=True)\n",
    "    params = ''\n",
    "    if params_dict is not None:\n",
    "        params = '_'.join(f'{key}_{val}' for key,val in params_dict.items())\n",
    "    model_name = model_gen.__name__[5:] + f'_{model_name}' + f'_{params}'\n",
    "        \n",
    "    if use_saved:\n",
    "        history = joblib.load(fr'./models/{model_name}_history.sav')\n",
    "    else:\n",
    "        callbacks = get_callbacks(model_name)\n",
    "        \n",
    "        train_x, train_y = train_data\n",
    "        \n",
    "        model = model_gen(*train_x[0].shape[1:]) # melody size\n",
    "        history = model.fit(\n",
    "                            x=train_x,\n",
    "                            y=train_y,\n",
    "                            batch_size=params_dict['batch_size'],\n",
    "                            epochs=params_dict['epochs'],\n",
    "                            validation_data=val_data,\n",
    "                            callbacks=callbacks,\n",
    "                            verbose=1\n",
    "                            )\n",
    "        \n",
    "        history = history.history\n",
    "        joblib.dump(history, fr'./models/{model_name}_history.sav')\n",
    "    \n",
    "    model = load_model(fr'./models/{model_name}.h5')\n",
    "    \n",
    "    return model, history"
   ]
  },
  {
   "cell_type": "code",
   "execution_count": 47,
   "metadata": {},
   "outputs": [],
   "source": [
    "def visualize_perf(history):\n",
    "    ncols = 1\n",
    "    fig, ax = plt.subplots(ncols=ncols, figsize=(5*ncols,5))\n",
    "    fig.suptitle(f'Model performance over epochs')\n",
    "    \n",
    "    if ncols == 1:\n",
    "        ax = [ax]\n",
    "    \n",
    "    for k in ['val_loss', 'loss']:\n",
    "        ax[0].plot(history[k])\n",
    "        \n",
    "    ax[0].legend(['val_loss', 'train_loss'])\n",
    "    ax[0].margins(0.01)\n",
    "    ax[0].set_title('binary crossentropy')\n",
    "    \n",
    "#     for k in ['val_acc', 'acc']:\n",
    "#         ax[1].plot(history[k])\n",
    "        \n",
    "#     ax[1].legend(['val_acc', 'train_acc'])\n",
    "#     ax[1].margins(0.01)\n",
    "#     ax[1].set_title('accuracy')\n",
    "    \n",
    "    plt.show()\n"
   ]
  },
  {
   "cell_type": "markdown",
   "metadata": {},
   "source": [
    "## Model Learning"
   ]
  },
  {
   "cell_type": "markdown",
   "metadata": {},
   "source": [
    "### 'whole' "
   ]
  },
  {
   "cell_type": "code",
   "execution_count": 91,
   "metadata": {},
   "outputs": [
    {
     "name": "stdout",
     "output_type": "stream",
     "text": [
      "Epoch 1/20\n",
      "4499/4499 [==============================] - 127s 28ms/step - loss: 5.5997 - val_loss: 5.0700 - lr: 0.0010\n",
      "Epoch 2/20\n",
      "4499/4499 [==============================] - 119s 27ms/step - loss: 5.1497 - val_loss: 4.8622 - lr: 0.0010\n",
      "Epoch 3/20\n",
      "4499/4499 [==============================] - 118s 26ms/step - loss: 4.9192 - val_loss: 4.7733 - lr: 0.0010\n",
      "Epoch 4/20\n",
      "4499/4499 [==============================] - 119s 26ms/step - loss: 4.7693 - val_loss: 4.7468 - lr: 0.0010\n",
      "Epoch 5/20\n",
      "4499/4499 [==============================] - 122s 27ms/step - loss: 4.6610 - val_loss: 4.7401 - lr: 0.0010\n",
      "Epoch 6/20\n",
      "4499/4499 [==============================] - 121s 27ms/step - loss: 4.5868 - val_loss: 4.7390 - lr: 0.0010\n",
      "Epoch 7/20\n",
      "4499/4499 [==============================] - 122s 27ms/step - loss: 4.5269 - val_loss: 4.7534 - lr: 0.0010\n",
      "Epoch 8/20\n",
      "4499/4499 [==============================] - 116s 26ms/step - loss: 4.4806 - val_loss: 4.7458 - lr: 0.0010\n",
      "Epoch 9/20\n",
      "4499/4499 [==============================] - 114s 25ms/step - loss: 4.4372 - val_loss: 4.7725 - lr: 0.0010\n",
      "Epoch 10/20\n",
      "4499/4499 [==============================] - 117s 26ms/step - loss: 4.4032 - val_loss: 4.7666 - lr: 0.0010\n",
      "Epoch 11/20\n",
      "4499/4499 [==============================] - ETA: 0s - loss: 4.3703\n",
      "Epoch 00011: ReduceLROnPlateau reducing learning rate to 0.0005000000237487257.\n",
      "4499/4499 [==============================] - 116s 26ms/step - loss: 4.3703 - val_loss: 4.7818 - lr: 0.0010\n",
      "Epoch 12/20\n",
      "4499/4499 [==============================] - 116s 26ms/step - loss: 4.3176 - val_loss: 4.7845 - lr: 5.0000e-04\n",
      "Epoch 00012: early stopping\n"
     ]
    }
   ],
   "source": [
    "params_dict = {'batch_size': 32, 'epochs': 20}\n",
    "model_whole, history_whole = train_model('whole', init_model, train_data_whole, val_data_whole, use_saved=False, params_dict=params_dict)"
   ]
  },
  {
   "cell_type": "code",
   "execution_count": 92,
   "metadata": {},
   "outputs": [
    {
     "data": {
      "image/png": "[encoded data removed]",
      "text/plain": [
       "<Figure size 360x360 with 1 Axes>"
      ]
     },
     "metadata": {
      "needs_background": "light"
     },
     "output_type": "display_data"
    }
   ],
   "source": [
    "visualize_perf(history_whole)"
   ]
  },
  {
   "cell_type": "markdown",
   "metadata": {},
   "source": [
    "### 'Slided window'"
   ]
  },
  {
   "cell_type": "code",
   "execution_count": 62,
   "metadata": {},
   "outputs": [
    {
     "name": "stdout",
     "output_type": "stream",
     "text": [
      "Epoch 1/20\n",
      "3428/3428 [==============================] - 92s 27ms/step - loss: 5.6241 - val_loss: 5.1497 - lr: 0.0010\n",
      "Epoch 2/20\n",
      "3428/3428 [==============================] - 85s 25ms/step - loss: 5.2171 - val_loss: 4.9218 - lr: 0.0010\n",
      "Epoch 3/20\n",
      "3428/3428 [==============================] - 87s 25ms/step - loss: 4.9922 - val_loss: 4.8093 - lr: 0.0010\n",
      "Epoch 4/20\n",
      "3428/3428 [==============================] - 87s 25ms/step - loss: 4.8328 - val_loss: 4.7608 - lr: 0.0010\n",
      "Epoch 5/20\n",
      "3428/3428 [==============================] - 88s 26ms/step - loss: 4.7195 - val_loss: 4.7450 - lr: 0.0010\n",
      "Epoch 6/20\n",
      "3428/3428 [==============================] - 88s 26ms/step - loss: 4.6238 - val_loss: 4.7418 - lr: 0.0010\n",
      "Epoch 7/20\n",
      "3428/3428 [==============================] - 88s 26ms/step - loss: 4.5553 - val_loss: 4.7320 - lr: 0.0010\n",
      "Epoch 8/20\n",
      "3428/3428 [==============================] - 88s 26ms/step - loss: 4.4938 - val_loss: 4.7467 - lr: 0.0010\n",
      "Epoch 9/20\n",
      "3428/3428 [==============================] - 84s 25ms/step - loss: 4.4436 - val_loss: 4.7782 - lr: 0.0010\n",
      "Epoch 10/20\n",
      "3428/3428 [==============================] - 89s 26ms/step - loss: 4.3945 - val_loss: 4.7928 - lr: 0.0010\n",
      "Epoch 11/20\n",
      "3428/3428 [==============================] - 85s 25ms/step - loss: 4.3649 - val_loss: 4.8084 - lr: 0.0010\n",
      "Epoch 12/20\n",
      "3428/3428 [==============================] - ETA: 0s - loss: 4.3332\n",
      "Epoch 00012: ReduceLROnPlateau reducing learning rate to 0.0005000000237487257.\n",
      "3428/3428 [==============================] - 84s 25ms/step - loss: 4.3332 - val_loss: 4.8015 - lr: 0.0010\n",
      "Epoch 13/20\n",
      "3428/3428 [==============================] - 83s 24ms/step - loss: 4.2757 - val_loss: 4.8199 - lr: 5.0000e-04\n",
      "Epoch 00013: early stopping\n"
     ]
    }
   ],
   "source": [
    "params_dict = {'batch_size': 32, 'epochs': 20}\n",
    "model_slided, history_slided = train_model('slided', init_model, train_data_slided, val_data_slided, use_saved=False, params_dict=params_dict)"
   ]
  },
  {
   "cell_type": "code",
   "execution_count": 63,
   "metadata": {},
   "outputs": [
    {
     "data": {
      "image/png": "[encoded data removed]",
      "text/plain": [
       "<Figure size 360x360 with 1 Axes>"
      ]
     },
     "metadata": {
      "needs_background": "light"
     },
     "output_type": "display_data"
    }
   ],
   "source": [
    "visualize_perf(history_slided)"
   ]
  },
  {
   "cell_type": "markdown",
   "metadata": {},
   "source": [
    "# Sample Lyrics by Seed"
   ]
  },
  {
   "cell_type": "code",
   "execution_count": 49,
   "metadata": {},
   "outputs": [],
   "source": [
    "def generate_song(model, seed, window_size, stop_token, tokenizer, max_len):\n",
    "    stop_token = tokenizer.word_index[stop_token]\n",
    "    \n",
    "    def get_next_word(seed):\n",
    "        probs = model(seed, training=False)\n",
    "        chosen_idx = np.random.choice(range(0, max_features), p=probs[0])\n",
    "        chosen_word = tokenizer.sequences_to_texts([[chosen_idx]])[0]\n",
    "        \n",
    "        return chosen_idx, chosen_word\n",
    "    \n",
    "    \n",
    "    seed = preprocess_lyrics(seed)\n",
    "    song = seed.copy()\n",
    "    seed = ' '.join(seed)\n",
    "    seed = tokenizer.texts_to_sequences([seed])\n",
    "    seed = pad_sequences(seed, maxlen=window_size)\n",
    "\n",
    "    i = 0\n",
    "    idx, word = get_next_word(seed)\n",
    "    while word != stop_token and i < max_len:\n",
    "        song.append(word)\n",
    "        i+=1\n",
    "        seed = np.concatenate([seed[:,1:], [[idx]]], axis=1)\n",
    "        idx, word = get_next_word(seed)\n",
    "    \n",
    "    return song    "
   ]
  },
  {
   "cell_type": "code",
   "execution_count": 50,
   "metadata": {},
   "outputs": [
    {
     "data": {
      "text/html": [
       "<div>\n",
       "<style scoped>\n",
       "    .dataframe tbody tr th:only-of-type {\n",
       "        vertical-align: middle;\n",
       "    }\n",
       "\n",
       "    .dataframe tbody tr th {\n",
       "        vertical-align: top;\n",
       "    }\n",
       "\n",
       "    .dataframe thead th {\n",
       "        text-align: right;\n",
       "    }\n",
       "</style>\n",
       "<table border=\"1\" class=\"dataframe\">\n",
       "  <thead>\n",
       "    <tr style=\"text-align: right;\">\n",
       "      <th></th>\n",
       "      <th>Singer</th>\n",
       "      <th>Song Name</th>\n",
       "      <th>Lyrics</th>\n",
       "      <th>Midi File</th>\n",
       "    </tr>\n",
       "  </thead>\n",
       "  <tbody>\n",
       "    <tr>\n",
       "      <th>0</th>\n",
       "      <td>the bangles</td>\n",
       "      <td>eternal flame</td>\n",
       "      <td>close your eyes give me your hand darling &amp; do...</td>\n",
       "      <td>The_Bangles_-_Eternal_Flame.mid</td>\n",
       "    </tr>\n",
       "    <tr>\n",
       "      <th>1</th>\n",
       "      <td>billy joel</td>\n",
       "      <td>honesty</td>\n",
       "      <td>if you search for tenderness &amp; it isn't hard t...</td>\n",
       "      <td>Billy_Joel_-_Honesty.mid</td>\n",
       "    </tr>\n",
       "    <tr>\n",
       "      <th>2</th>\n",
       "      <td>cardigans</td>\n",
       "      <td>lovefool</td>\n",
       "      <td>dear i fear we're facing a problem &amp; you love ...</td>\n",
       "      <td>Cardigans_-_Lovefool.mid</td>\n",
       "    </tr>\n",
       "    <tr>\n",
       "      <th>3</th>\n",
       "      <td>aqua</td>\n",
       "      <td>barbie girl</td>\n",
       "      <td>hiya barbie &amp; hi ken! &amp; do you want to go for ...</td>\n",
       "      <td>Aqua_-_Barbie_Girl.mid</td>\n",
       "    </tr>\n",
       "    <tr>\n",
       "      <th>4</th>\n",
       "      <td>blink 182</td>\n",
       "      <td>all the small things</td>\n",
       "      <td>all the small things &amp; true care truth brings ...</td>\n",
       "      <td>Blink_182_-_All_the_Small_Things.mid</td>\n",
       "    </tr>\n",
       "  </tbody>\n",
       "</table>\n",
       "</div>"
      ],
      "text/plain": [
       "        Singer             Song Name  \\\n",
       "0  the bangles         eternal flame   \n",
       "1   billy joel               honesty   \n",
       "2    cardigans              lovefool   \n",
       "3         aqua           barbie girl   \n",
       "4    blink 182  all the small things   \n",
       "\n",
       "                                              Lyrics  \\\n",
       "0  close your eyes give me your hand darling & do...   \n",
       "1  if you search for tenderness & it isn't hard t...   \n",
       "2  dear i fear we're facing a problem & you love ...   \n",
       "3  hiya barbie & hi ken! & do you want to go for ...   \n",
       "4  all the small things & true care truth brings ...   \n",
       "\n",
       "                              Midi File  \n",
       "0       The_Bangles_-_Eternal_Flame.mid  \n",
       "1              Billy_Joel_-_Honesty.mid  \n",
       "2              Cardigans_-_Lovefool.mid  \n",
       "3                Aqua_-_Barbie_Girl.mid  \n",
       "4  Blink_182_-_All_the_Small_Things.mid  "
      ]
     },
     "execution_count": 50,
     "metadata": {},
     "output_type": "execute_result"
    }
   ],
   "source": [
    "df_test"
   ]
  },
  {
   "cell_type": "code",
   "execution_count": 78,
   "metadata": {},
   "outputs": [],
   "source": [
    "def generate_song_with_melody(model, model_type, lyrics_seed, midi_name, window_size, tokenizer, max_len, fpw=100, stop_token='$'):\n",
    "    stop_token_idx = tokenizer.word_index[stop_token]\n",
    "    if model_type == 'slided':\n",
    "        melody = preprocess_melody_file_by_time(midi_name, fs=100, max_piano_val=762, fpw=fpw, window_size=window_size)\n",
    "    else:\n",
    "        melody = preprocess_melody_file_by_note(midi_name, fs=100, max_piano_val=762)\n",
    "        melody = np.repeat([melody], repeats=window_size, axis=0)\n",
    "        melody = np.expand_dims(melody, axis=0)\n",
    "    \n",
    "    def get_next_word(lyrics_seed, melody_seed):\n",
    "        if melody_seed is None:\n",
    "            return stop_token_idx, stop_token\n",
    "        try:\n",
    "            probs = model((melody_seed, lyrics_seed), training=False)\n",
    "            probs_v = np.array(probs[0])\n",
    "            chosen_idx = np.random.choice(range(0, max_features), p=probs_v)\n",
    "            chosen_word = tokenizer.sequences_to_texts([[chosen_idx]])[0]\n",
    "            \n",
    "        except Exception as e:\n",
    "            print(e)\n",
    "            return stop_token_idx, stop_token\n",
    "        \n",
    "        return chosen_idx, chosen_word\n",
    "    \n",
    "    def get_melody_seed(word_cnt):\n",
    "        if model_type == \"whole\":\n",
    "            return melody\n",
    "        \n",
    "        if word_cnt - window_size >= melody.shape[0]:\n",
    "            return None\n",
    "        \n",
    "        if word_cnt < window_size:\n",
    "            melody_seed = np.concatenate([np.zeros((window_size-word_cnt,fpw)),melody[0][:word_cnt,:fpw]])\n",
    "        else:\n",
    "            window_idx = word_cnt-window_size\n",
    "            \n",
    "            if window_idx >= melody.shape[0]: # Melody has ended\n",
    "                return None\n",
    "            \n",
    "            melody_seed = melody[window_idx]\n",
    "        \n",
    "        return np.expand_dims(melody_seed, axis=0)\n",
    "    \n",
    "    \n",
    "    lyrics_seed = preprocess_lyrics(lyrics_seed)\n",
    "    song = lyrics_seed.copy()\n",
    "    lyrics_seed = ' '.join(lyrics_seed)\n",
    "    lyrics_seed = tokenizer.texts_to_sequences([lyrics_seed])\n",
    "    word_cnt = len(lyrics_seed[0])\n",
    "    lyrics_seed = pad_sequences(lyrics_seed, maxlen=window_size)\n",
    "\n",
    "    melody_seed = get_melody_seed(word_cnt)\n",
    "    idx, word = get_next_word(lyrics_seed, melody_seed)\n",
    "    \n",
    "    while idx != stop_token_idx and word_cnt < max_len:\n",
    "        song.append(word)\n",
    "        word_cnt+=1\n",
    "        lyrics_seed = np.concatenate([lyrics_seed[:,1:], [[idx]]], axis=1)\n",
    "        melody_seed = get_melody_seed(word_cnt)\n",
    "        idx, word = get_next_word(lyrics_seed, melody_seed)\n",
    "    \n",
    "    return song    "
   ]
  },
  {
   "cell_type": "code",
   "execution_count": 79,
   "metadata": {},
   "outputs": [],
   "source": [
    "def apply_gen_song(midi_name, model, model_type, lyrics_seed,  window_size=10, song_max_length=100, fpw=100):\n",
    "    print(f'\\n[Song: {midi_name}, seed: {lyrics_seed}]\\n')\n",
    "    song = generate_song_with_melody(model, model_type, lyrics_seed, midi_name, window_size, tokenizer, song_max_length, fpw=fpw)\n",
    "    pretty_lyrics(song)\n",
    "    print('\\n')\n"
   ]
  },
  {
   "cell_type": "markdown",
   "metadata": {},
   "source": [
    "### 'Whole'"
   ]
  },
  {
   "cell_type": "code",
   "execution_count": 93,
   "metadata": {},
   "outputs": [
    {
     "name": "stdout",
     "output_type": "stream",
     "text": [
      "\n",
      "[Song: The_Bangles_-_Eternal_Flame.mid, seed: Hello]\n",
      "\n",
      "hello \n",
      "\n",
      "pull no daffodils and mondays the baby the fire \n",
      "\n",
      "where now money not all she \n",
      "\n",
      "two ladies \n",
      "\n",
      "now that i would runaway \n",
      "\n",
      "you mean is here \n",
      "\n",
      "and we should be mine \n",
      "\n",
      "i never am watched suppper law on your earth in town \n",
      "\n",
      "someone came now off the ye heads \n",
      "\n",
      "she we knew to care you see it show no the obsession and that control me \n",
      "\n",
      "and he was gon na am each life \n",
      "\n",
      "my dance was there in the want oh i am how for those mc my \n",
      "\n",
      "\n",
      "[Song: Billy_Joel_-_Honesty.mid, seed: Hello]\n",
      "\n",
      "hello \n",
      "\n",
      "please decided out a heart how sweet mess \n",
      "\n",
      "more shiny yeah \n",
      "\n",
      "\n",
      "[Song: Cardigans_-_Lovefool.mid, seed: Hello]\n",
      "\n",
      "hello \n",
      "\n",
      "bout that pain a plan heaven dead \n",
      "\n",
      "and they have knew me \n",
      "\n",
      "hey \n",
      "\n",
      "as and love after but away to follow \n",
      "\n",
      "i got this the dewfall that i was like she bad \n",
      "\n",
      "but we am a amon pass away down \n",
      "\n",
      "does you so divorce just because i will become help you \n",
      "\n",
      "do not stay our think but now we loved me strong so hard in you more on alone \n",
      "\n",
      "so how my first time for \n",
      "\n",
      "that you can get us you had to does to the when \n",
      "\n",
      "the \n",
      "\n",
      "\n",
      "[Song: Aqua_-_Barbie_Girl.mid, seed: Hello]\n",
      "\n",
      "hello \n",
      "\n",
      "ah eazye ya ya comes home \n",
      "\n",
      "and turning you se at a ahah won \n",
      "\n",
      "its the back you dancing all i like a ocean \n",
      "\n",
      "that sees a land for night \n",
      "\n",
      "they swear it got my york rainy time \n",
      "\n",
      "i wanted on a karma best is the city behind home \n",
      "\n",
      "put me and the night change \n",
      "\n",
      "i am new hometown \n",
      "\n",
      "for an office \n",
      "\n",
      "you and a light more packed her clear \n",
      "\n",
      "cause nobody \n",
      "\n",
      "you have evil or long more and about you \n",
      "\n",
      "it is the gun \n",
      "\n",
      "\n",
      "\n",
      "\n",
      "[Song: Blink_182_-_All_the_Small_Things.mid, seed: Hello]\n",
      "\n",
      "hello \n",
      "\n",
      "bailamos we \n",
      "\n",
      "the end of the go \n",
      "\n",
      "to burn too crowded baby \n",
      "\n",
      "with my things when i am like all me some free \n",
      "\n",
      "i am town your peaceful newborn alone \n",
      "\n",
      "closer \n",
      "\n",
      "underground is just up \n",
      "\n",
      "cause i care i wish i am than makebelieve they gon na show \n",
      "\n",
      "la on stone down \n",
      "\n",
      "and blame him fell a notcha look \n",
      "\n",
      "oh stand just to be away \n",
      "\n",
      "i am \n",
      "\n",
      "yeah that a songs \n",
      "\n",
      "oh now now that i fought me baby \n",
      "\n",
      "oh i stay but no \n",
      "\n"
     ]
    }
   ],
   "source": [
    "_ = df_test['Midi File'].apply(lambda midi_name: apply_gen_song(midi_name, model_whole, 'whole', 'Hello'))"
   ]
  },
  {
   "cell_type": "code",
   "execution_count": 94,
   "metadata": {},
   "outputs": [
    {
     "name": "stdout",
     "output_type": "stream",
     "text": [
      "\n",
      "[Song: The_Bangles_-_Eternal_Flame.mid, seed: close]\n",
      "\n",
      "close \n",
      "\n",
      "street and hot lost \n",
      "\n",
      "then as tonight \n",
      "\n",
      "baby and i see i \n",
      "\n",
      "the shot long where we will not it play \n",
      "\n",
      "your \n",
      "\n",
      "lord we lose my \n",
      "\n",
      "wide \n",
      "\n",
      "i start if the dance we got on just wan na pull \n",
      "\n",
      "give my look to you wrong girl \n",
      "\n",
      "maybe if that i am hoes with the doubt is where to do \n",
      "\n",
      "c shepherd uh blmchen \n",
      "\n",
      "girls says if he is bad motherfucker yeah \n",
      "\n",
      "\n",
      "[Song: Billy_Joel_-_Honesty.mid, seed: if]\n",
      "\n",
      "if oh till buy the where you may make me dre \n",
      "\n",
      "suddenly since i do not lose your pleasing darkness \n",
      "\n",
      "and are a poison gun clouds \n",
      "\n",
      "you are words bad \n",
      "\n",
      "aladdin it is all clothes \n",
      "\n",
      "the leaves say did what do now \n",
      "\n",
      "baby this no i see you when it should call \n",
      "\n",
      "you hold around up \n",
      "\n",
      "we used to be town \n",
      "\n",
      "when you will be married you you see \n",
      "\n",
      "but come in anyone look my breath \n",
      "\n",
      "you listen into the \n",
      "\n",
      "someone takes my string \n",
      "\n",
      "oh it ai \n",
      "\n",
      "\n",
      "[Song: Cardigans_-_Lovefool.mid, seed: dear]\n",
      "\n",
      "dear \n",
      "\n",
      "i do not breathe when you have a band \n",
      "\n",
      "and would he me what i love to ever loved me \n",
      "\n",
      "and i left the week that cake \n",
      "\n",
      "the strong amor hours \n",
      "\n",
      "love that gon na stop together \n",
      "\n",
      "you gon na make the crowd \n",
      "\n",
      "the love was where with my stupid arms \n",
      "\n",
      "we was your ass treat heaven \n",
      "\n",
      "\n",
      "[Song: Aqua_-_Barbie_Girl.mid, seed: hiya]\n",
      "\n",
      "hi you what on another \n",
      "\n",
      "and she just just treasure \n",
      "\n",
      "for not the pride out now ahead \n",
      "\n",
      "when your who just want again oh there are to \n",
      "\n",
      "here and in to a floor \n",
      "\n",
      "has riding on this mainstream \n",
      "\n",
      "i climb again \n",
      "\n",
      "talk to be the success \n",
      "\n",
      "the little tails the sidewalk will incense hit a problem \n",
      "\n",
      "a street give me say boy sorry the music let you life \n",
      "\n",
      "to set this moon always late \n",
      "\n",
      "there really left into the sky \n",
      "\n",
      "say everything is whether i can not \n",
      "\n",
      "\n",
      "\n",
      "\n",
      "[Song: Blink_182_-_All_the_Small_Things.mid, seed: all]\n",
      "\n",
      "all \n",
      "\n",
      "falling gon na me off for how \n",
      "\n",
      "all i heard it to the town more as love \n",
      "\n",
      "got like san dance \n",
      "\n",
      "you had in just there a radio way i give with my feet \n",
      "\n",
      "i was lonely all and it is running by \n",
      "\n",
      "do not come out out and a circus tears as more game \n",
      "\n",
      "shit gave this knock on falling ya bout whoa \n",
      "\n",
      "and i started ragged sweat \n",
      "\n",
      "of nice mo midnight lonely i could ever die \n",
      "\n",
      "do not rock you \n",
      "\n",
      "cause make about all all i \n",
      "\n"
     ]
    }
   ],
   "source": [
    "_ = df_test.apply(lambda r: apply_gen_song(r['Midi File'], model_whole, 'whole', r['Lyrics'].split(' ')[0]), axis=1)"
   ]
  },
  {
   "cell_type": "markdown",
   "metadata": {},
   "source": [
    "### 'Slided Window'"
   ]
  },
  {
   "cell_type": "code",
   "execution_count": 64,
   "metadata": {
    "collapsed": true,
    "jupyter": {
     "outputs_hidden": true
    }
   },
   "outputs": [
    {
     "name": "stdout",
     "output_type": "stream",
     "text": [
      "\n",
      "[Song: The_Bangles_-_Eternal_Flame.mid, seed: Hello]\n",
      "\n",
      "hello \n",
      "\n",
      "pa less oh \n",
      "\n",
      "had my photograph the springtime is clearing \n",
      "\n",
      "i know we need i am so been waiting right \n",
      "\n",
      "i have waiting back for the black move \n",
      "\n",
      "i will think that is a town that tried \n",
      "\n",
      "show to play up through me \n",
      "\n",
      "oh \n",
      "\n",
      "ooo do not \n",
      "\n",
      "ai not come will leave it mellow than beautiful \n",
      "\n",
      "where i feel a made em do \n",
      "\n",
      "wan na got a light or gold \n",
      "\n",
      "and that is all think is big faith \n",
      "\n",
      "but all there is the trees \n",
      "\n",
      "aladdin \n",
      "\n",
      "\n",
      "[Song: Billy_Joel_-_Honesty.mid, seed: Hello]\n",
      "\n",
      "hello \n",
      "\n",
      "i will be hurting me \n",
      "\n",
      "only tears i left to say \n",
      "\n",
      "it do not give to me \n",
      "\n",
      "hear \n",
      "\n",
      "just not part to your own \n",
      "\n",
      "i was me like the government hot \n",
      "\n",
      "as dawn of under the storm \n",
      "\n",
      "but i am gon na fly like the road \n",
      "\n",
      "the story i miss i will work \n",
      "\n",
      "and the power ago \n",
      "\n",
      "he is gon na hear up between the tears of why \n",
      "\n",
      "there is one stuff dear in a sunshine \n",
      "\n",
      "oh let your world da is on me \n",
      "\n",
      "crazy \n",
      "\n",
      "\n",
      "[Song: Cardigans_-_Lovefool.mid, seed: Hello]\n",
      "\n",
      "hello \n",
      "\n",
      "her pen so coal \n",
      "\n",
      "who gave to guide out how to \n",
      "\n",
      "i should be true got some \n",
      "\n",
      "i love a do i ever say \n",
      "\n",
      "you you read it my love answer \n",
      "\n",
      "i do not do \n",
      "\n",
      "when i do not believe i think i am on a oldfashioned and you are blue what he are love \n",
      "\n",
      "have my boardwalk in falling \n",
      "\n",
      "in your lips little for rise me cry \n",
      "\n",
      "on my stalls holes now i made around oh oh \n",
      "\n",
      "do not much for a amon shall chasing blame all \n",
      "\n",
      "\n",
      "[Song: Aqua_-_Barbie_Girl.mid, seed: Hello]\n",
      "\n",
      "hello \n",
      "\n",
      "will find ta be all my dreams what i love \n",
      "\n",
      "it is a ball and put on the men \n",
      "\n",
      "another tension ask our cut fear \n",
      "\n",
      "da da daa ba dee do the faintly yes this ting drag \n",
      "\n",
      "we shake an came \n",
      "\n",
      "games for normal frightening \n",
      "\n",
      "te always change a spark for me \n",
      "\n",
      "a lifetime that where you do not feel \n",
      "\n",
      "to get it over my dreams to the rag accounts up up up \n",
      "\n",
      "kick danger to share to not into to so fool \n",
      "\n",
      "caught as me small bright \n",
      "\n",
      "\n",
      "[Song: Blink_182_-_All_the_Small_Things.mid, seed: Hello]\n",
      "\n",
      "hello \n",
      "\n",
      "i will all waited was for coming on as the great rag rock baby \n",
      "\n",
      "gim before waiting to learn \n",
      "\n",
      "te architect can live before in god \n",
      "\n",
      "and sunday because you you love that does that give it i know \n",
      "\n",
      "gon na show the lover when he is world i know \n",
      "\n",
      "i want to seen a best him yeah \n",
      "\n",
      "let the bird on \n",
      "\n",
      "running and a days being break of for nice \n",
      "\n",
      "home too world if that i did no just see \n",
      "\n",
      "you would always be your fourth \n",
      "\n",
      "dark \n",
      "\n"
     ]
    }
   ],
   "source": [
    "_ = df_test['Midi File'].apply(lambda midi_name: apply_gen_song(midi_name, model_slided, 'slided', 'Hello'))"
   ]
  },
  {
   "cell_type": "code",
   "execution_count": 65,
   "metadata": {
    "collapsed": true,
    "jupyter": {
     "outputs_hidden": true
    }
   },
   "outputs": [
    {
     "name": "stdout",
     "output_type": "stream",
     "text": [
      "\n",
      "[Song: The_Bangles_-_Eternal_Flame.mid, seed: close]\n",
      "\n",
      "close of the blues \n",
      "\n",
      "and sadness burns like my body \n",
      "\n",
      "princess just telling me the song still reach a plan \n",
      "\n",
      "i am a government shining where \n",
      "\n",
      "you even seen you feeling \n",
      "\n",
      "forever i am you \n",
      "\n",
      "an look a love must do me more \n",
      "\n",
      "and caught back to me why blame the follow so fun \n",
      "\n",
      "if you have walk \n",
      "\n",
      "darkness as us girl where you do not do not just have laughing \n",
      "\n",
      "let me find the you oh lose me girl \n",
      "\n",
      "and the claus is \n",
      "\n",
      "te rhythm each two \n",
      "\n",
      "\n",
      "[Song: Billy_Joel_-_Honesty.mid, seed: if]\n",
      "\n",
      "if the then wan na see me \n",
      "\n",
      "sadness ought it to the road \n",
      "\n",
      "we always mean \n",
      "\n",
      "my goodbye wishing it is so \n",
      "\n",
      "when \n",
      "\n",
      "the be around his watching balloon \n",
      "\n",
      "all there that there makes de vain \n",
      "\n",
      "whoa when dreams gets hours in a we wave again you started \n",
      "\n",
      "but hold in our long can all i say \n",
      "\n",
      "i want to not love and it is you summer \n",
      "\n",
      "and feeling used to prove your breath all the years think i want \n",
      "\n",
      "they really have a brand christmas \n",
      "\n",
      "do you \n",
      "\n",
      "\n",
      "[Song: Cardigans_-_Lovefool.mid, seed: dear]\n",
      "\n",
      "dear \n",
      "\n",
      "lifetime when he divide to talk away a mistake \n",
      "\n",
      "when i have knew of you then you want you let me believe \n",
      "\n",
      "a boys were doing still crazy in you here \n",
      "\n",
      "as i needed my last life \n",
      "\n",
      "you might can not say control no \n",
      "\n",
      "i am the ghost that is a there is more \n",
      "\n",
      "and we want to want to just not made \n",
      "\n",
      "but the world they listen it cried suppper feel again \n",
      "\n",
      "you were a passion \n",
      "\n",
      "only do not hear away \n",
      "\n",
      "all things baby will be fun \n",
      "\n",
      "\n",
      "[Song: Aqua_-_Barbie_Girl.mid, seed: hiya]\n",
      "\n",
      "hi you is going late \n",
      "\n",
      "yeah far \n",
      "\n",
      "ohhh games oh oh oh \n",
      "\n",
      "midnight roll never \n",
      "\n",
      "fill in my heart \n",
      "\n",
      "the bus i really worked the one when as you am laughing girl \n",
      "\n",
      "always always all not grow \n",
      "\n",
      "and you am just day still loved \n",
      "\n",
      "closer woman i am as this lie and i know \n",
      "\n",
      "the beach comes for doubt \n",
      "\n",
      "they took you so trespassing which makes me four \n",
      "\n",
      "whether i know you na want to see it that can not be passed me again \n",
      "\n",
      "sleep old fantasy love \n",
      "\n",
      "\n",
      "[Song: Blink_182_-_All_the_Small_Things.mid, seed: all]\n",
      "\n",
      "all she \n",
      "\n",
      "plus for troll out tonight \n",
      "\n",
      "and in blue tries \n",
      "\n",
      "we \n",
      "\n",
      "loneliness you will matter you do me \n",
      "\n",
      "how you are only break the summer guy \n",
      "\n",
      "to true bout by again \n",
      "\n",
      "we know you keep a phone of the made the sad brown day \n",
      "\n",
      "take me on you note \n",
      "\n",
      "then you are way to be out \n",
      "\n",
      "\n",
      "\n",
      "leaving the tough attitude soul \n",
      "\n",
      "one sky i have to know you did \n",
      "\n",
      "i will fly to no burning down that you have should that me \n",
      "\n",
      "cause i am \n",
      "\n"
     ]
    }
   ],
   "source": [
    "_ = df_test.apply(lambda r: apply_gen_song(r['Midi File'], model_slided, 'slided', r['Lyrics'].split(' ')[0]), axis=1)"
   ]
  }
 ],
 "metadata": {
  "kernelspec": {
   "display_name": "Python (tf-env)",
   "language": "python",
   "name": "tf-env"
  },
  "language_info": {
   "codemirror_mode": {
    "name": "ipython",
    "version": 3
   },
   "file_extension": ".py",
   "mimetype": "text/x-python",
   "name": "python",
   "nbconvert_exporter": "python",
   "pygments_lexer": "ipython3",
   "version": "3.8.6"
  },
  "toc-autonumbering": false,
  "toc-showcode": false,
  "toc-showmarkdowntxt": false
 },
 "nbformat": 4,
 "nbformat_minor": 4
}
