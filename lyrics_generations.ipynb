{
 "cells": [
  {
   "cell_type": "code",
   "execution_count": 29,
   "metadata": {},
   "outputs": [
    {
     "name": "stdout",
     "output_type": "stream",
     "text": [
      "Collecting pretty_midi\n",
      "  Downloading pretty_midi-0.2.9.tar.gz (5.6 MB)\n",
      "\u001b[K     |████████████████████████████████| 5.6 MB 6.0 MB/s eta 0:00:01\n",
      "\u001b[?25hRequirement already satisfied: numpy>=1.7.0 in /home/naorko/.conda/envs/tf-env/lib/python3.8/site-packages (from pretty_midi) (1.19.2)\n",
      "Collecting mido>=1.1.16\n",
      "  Downloading mido-1.2.9-py2.py3-none-any.whl (52 kB)\n",
      "\u001b[K     |████████████████████████████████| 52 kB 59 kB/s s eta 0:00:01\n",
      "\u001b[?25hRequirement already satisfied: six in /home/naorko/.conda/envs/tf-env/lib/python3.8/site-packages (from pretty_midi) (1.15.0)\n",
      "Building wheels for collected packages: pretty-midi\n",
      "  Building wheel for pretty-midi (setup.py) ... \u001b[?25ldone\n",
      "\u001b[?25h  Created wheel for pretty-midi: filename=pretty_midi-0.2.9-py3-none-any.whl size=5591952 sha256=6ae2e0c9ac02a53188789f433a81a99b309fba3c1ac53900ed0acbb47e3224c2\n",
      "  Stored in directory: /home/naorko/.cache/pip/wheels/2a/5a/e3/30eeb9a99350f3f7e21258fcb132743eef1a4f49b3505e76b6\n",
      "Successfully built pretty-midi\n",
      "Installing collected packages: mido, pretty-midi\n",
      "Successfully installed mido-1.2.9 pretty-midi-0.2.9\n"
     ]
    }
   ],
   "source": [
    "!pip install pretty_midi"
   ]
  },
  {
   "cell_type": "code",
   "execution_count": 30,
   "metadata": {},
   "outputs": [],
   "source": [
    "import pretty_midi\n",
    "import pandas as pd\n",
    "import numpy as np"
   ]
  },
  {
   "cell_type": "code",
   "execution_count": 27,
   "metadata": {},
   "outputs": [],
   "source": [
    "cols = ['Singer', 'Song Name', 'Lyrics']\n",
    "df_train = pd.read_csv('datasets/lyrics_train_set.csv', names=cols)\n",
    "df_test = pd.read_csv('datasets/lyrics_test_set.csv', names=cols)"
   ]
  },
  {
   "cell_type": "code",
   "execution_count": 25,
   "metadata": {},
   "outputs": [
    {
     "data": {
      "text/html": [
       "<div>\n",
       "<style scoped>\n",
       "    .dataframe tbody tr th:only-of-type {\n",
       "        vertical-align: middle;\n",
       "    }\n",
       "\n",
       "    .dataframe tbody tr th {\n",
       "        vertical-align: top;\n",
       "    }\n",
       "\n",
       "    .dataframe thead th {\n",
       "        text-align: right;\n",
       "    }\n",
       "</style>\n",
       "<table border=\"1\" class=\"dataframe\">\n",
       "  <thead>\n",
       "    <tr style=\"text-align: right;\">\n",
       "      <th></th>\n",
       "      <th>Singer</th>\n",
       "      <th>Song Name</th>\n",
       "      <th>Lyrics</th>\n",
       "    </tr>\n",
       "  </thead>\n",
       "  <tbody>\n",
       "    <tr>\n",
       "      <th>0</th>\n",
       "      <td>elton john</td>\n",
       "      <td>candle in the wind</td>\n",
       "      <td>goodbye norma jean &amp; though i never knew you a...</td>\n",
       "    </tr>\n",
       "    <tr>\n",
       "      <th>1</th>\n",
       "      <td>gerry rafferty</td>\n",
       "      <td>baker street</td>\n",
       "      <td>winding your way down on baker street &amp; lite i...</td>\n",
       "    </tr>\n",
       "    <tr>\n",
       "      <th>2</th>\n",
       "      <td>gerry rafferty</td>\n",
       "      <td>right down the line</td>\n",
       "      <td>you know i need your love &amp; you've got that ho...</td>\n",
       "    </tr>\n",
       "    <tr>\n",
       "      <th>3</th>\n",
       "      <td>2 unlimited</td>\n",
       "      <td>tribal dance</td>\n",
       "      <td>come on check it out ya'll &amp; (come on come on!...</td>\n",
       "    </tr>\n",
       "    <tr>\n",
       "      <th>4</th>\n",
       "      <td>2 unlimited</td>\n",
       "      <td>let the beat control your body</td>\n",
       "      <td>let the beat control your body &amp; let the beat ...</td>\n",
       "    </tr>\n",
       "    <tr>\n",
       "      <th>...</th>\n",
       "      <td>...</td>\n",
       "      <td>...</td>\n",
       "      <td>...</td>\n",
       "    </tr>\n",
       "    <tr>\n",
       "      <th>610</th>\n",
       "      <td>don henley</td>\n",
       "      <td>dirty laundry</td>\n",
       "      <td>i make my living off the evening news &amp; just g...</td>\n",
       "    </tr>\n",
       "    <tr>\n",
       "      <th>611</th>\n",
       "      <td>don henley</td>\n",
       "      <td>new york minute</td>\n",
       "      <td>harry got up &amp; dressed all in black &amp; went dow...</td>\n",
       "    </tr>\n",
       "    <tr>\n",
       "      <th>612</th>\n",
       "      <td>bob dylan</td>\n",
       "      <td>subterranean homesick blues</td>\n",
       "      <td>johnny's in the basement &amp; mixing up the medic...</td>\n",
       "    </tr>\n",
       "    <tr>\n",
       "      <th>613</th>\n",
       "      <td>goldfinger</td>\n",
       "      <td>mable</td>\n",
       "      <td>i met her sunday that was yesterday &amp; the girl...</td>\n",
       "    </tr>\n",
       "    <tr>\n",
       "      <th>614</th>\n",
       "      <td>dr dre</td>\n",
       "      <td>forgot about dre</td>\n",
       "      <td>y'all know me still the same o.g. but i been l...</td>\n",
       "    </tr>\n",
       "  </tbody>\n",
       "</table>\n",
       "<p>615 rows × 3 columns</p>\n",
       "</div>"
      ],
      "text/plain": [
       "             Singer                       Song Name  \\\n",
       "0        elton john              candle in the wind   \n",
       "1    gerry rafferty                    baker street   \n",
       "2    gerry rafferty             right down the line   \n",
       "3       2 unlimited                    tribal dance   \n",
       "4       2 unlimited  let the beat control your body   \n",
       "..              ...                             ...   \n",
       "610      don henley                   dirty laundry   \n",
       "611      don henley                 new york minute   \n",
       "612       bob dylan     subterranean homesick blues   \n",
       "613      goldfinger                           mable   \n",
       "614          dr dre                forgot about dre   \n",
       "\n",
       "                                                Lyrics  \n",
       "0    goodbye norma jean & though i never knew you a...  \n",
       "1    winding your way down on baker street & lite i...  \n",
       "2    you know i need your love & you've got that ho...  \n",
       "3    come on check it out ya'll & (come on come on!...  \n",
       "4    let the beat control your body & let the beat ...  \n",
       "..                                                 ...  \n",
       "610  i make my living off the evening news & just g...  \n",
       "611  harry got up & dressed all in black & went dow...  \n",
       "612  johnny's in the basement & mixing up the medic...  \n",
       "613  i met her sunday that was yesterday & the girl...  \n",
       "614  y'all know me still the same o.g. but i been l...  \n",
       "\n",
       "[615 rows x 3 columns]"
      ]
     },
     "execution_count": 25,
     "metadata": {},
     "output_type": "execute_result"
    }
   ],
   "source": [
    "df_train"
   ]
  },
  {
   "cell_type": "code",
   "execution_count": 28,
   "metadata": {},
   "outputs": [
    {
     "data": {
      "text/html": [
       "<div>\n",
       "<style scoped>\n",
       "    .dataframe tbody tr th:only-of-type {\n",
       "        vertical-align: middle;\n",
       "    }\n",
       "\n",
       "    .dataframe tbody tr th {\n",
       "        vertical-align: top;\n",
       "    }\n",
       "\n",
       "    .dataframe thead th {\n",
       "        text-align: right;\n",
       "    }\n",
       "</style>\n",
       "<table border=\"1\" class=\"dataframe\">\n",
       "  <thead>\n",
       "    <tr style=\"text-align: right;\">\n",
       "      <th></th>\n",
       "      <th>Singer</th>\n",
       "      <th>Song Name</th>\n",
       "      <th>Lyrics</th>\n",
       "    </tr>\n",
       "  </thead>\n",
       "  <tbody>\n",
       "    <tr>\n",
       "      <th>0</th>\n",
       "      <td>the bangles</td>\n",
       "      <td>eternal flame</td>\n",
       "      <td>close your eyes give me your hand darling &amp; d...</td>\n",
       "    </tr>\n",
       "    <tr>\n",
       "      <th>1</th>\n",
       "      <td>billy joel</td>\n",
       "      <td>honesty</td>\n",
       "      <td>if you search for tenderness &amp; it isn't hard ...</td>\n",
       "    </tr>\n",
       "    <tr>\n",
       "      <th>2</th>\n",
       "      <td>cardigans</td>\n",
       "      <td>lovefool</td>\n",
       "      <td>dear i fear we're facing a problem &amp; you love...</td>\n",
       "    </tr>\n",
       "    <tr>\n",
       "      <th>3</th>\n",
       "      <td>aqua</td>\n",
       "      <td>barbie girl</td>\n",
       "      <td>hiya barbie &amp; hi ken! &amp; do you want to go for...</td>\n",
       "    </tr>\n",
       "    <tr>\n",
       "      <th>4</th>\n",
       "      <td>blink 182</td>\n",
       "      <td>all the small things</td>\n",
       "      <td>all the small things &amp; true care truth brings...</td>\n",
       "    </tr>\n",
       "  </tbody>\n",
       "</table>\n",
       "</div>"
      ],
      "text/plain": [
       "        Singer              Song Name  \\\n",
       "0  the bangles          eternal flame   \n",
       "1   billy joel                honesty   \n",
       "2    cardigans               lovefool   \n",
       "3         aqua            barbie girl   \n",
       "4    blink 182   all the small things   \n",
       "\n",
       "                                              Lyrics  \n",
       "0   close your eyes give me your hand darling & d...  \n",
       "1   if you search for tenderness & it isn't hard ...  \n",
       "2   dear i fear we're facing a problem & you love...  \n",
       "3   hiya barbie & hi ken! & do you want to go for...  \n",
       "4   all the small things & true care truth brings...  "
      ]
     },
     "execution_count": 28,
     "metadata": {},
     "output_type": "execute_result"
    }
   ],
   "source": [
    "df_test"
   ]
  },
  {
   "cell_type": "code",
   "execution_count": 34,
   "metadata": {},
   "outputs": [
    {
     "data": {
      "text/plain": [
       "<pretty_midi.pretty_midi.PrettyMIDI at 0x7f7b2a4168e0>"
      ]
     },
     "execution_count": 34,
     "metadata": {},
     "output_type": "execute_result"
    }
   ],
   "source": [
    "pm = pretty_midi.PrettyMIDI('datasets/midi_files/aladdin_-_A_whole_new_world.mid')\n",
    "pm"
   ]
  },
  {
   "cell_type": "code",
   "execution_count": 38,
   "metadata": {},
   "outputs": [
    {
     "name": "stdout",
     "output_type": "stream",
     "text": [
      "There are 1 time signature changes\n",
      "There are 9 instruments\n",
      "Instrument 3 has 227 notes\n",
      "Instrument 4 has 0 pitch bends\n",
      "Instrument 5 has 0 control changes\n"
     ]
    }
   ],
   "source": [
    "print('There are {} time signature changes'.format(len(pm.time_signature_changes)))\n",
    "print('There are {} instruments'.format(len(pm.instruments)))\n",
    "print('Instrument 3 has {} notes'.format(len(pm.instruments[0].notes)))\n",
    "print('Instrument 4 has {} pitch bends'.format(len(pm.instruments[4].pitch_bends)))\n",
    "print('Instrument 5 has {} control changes'.format(len(pm.instruments[5].control_changes)))"
   ]
  }
 ],
 "metadata": {
  "kernelspec": {
   "display_name": "Python (tf-env)",
   "language": "python",
   "name": "tf-env"
  },
  "language_info": {
   "codemirror_mode": {
    "name": "ipython",
    "version": 3
   },
   "file_extension": ".py",
   "mimetype": "text/x-python",
   "name": "python",
   "nbconvert_exporter": "python",
   "pygments_lexer": "ipython3",
   "version": "3.8.6"
  }
 },
 "nbformat": 4,
 "nbformat_minor": 4
}
